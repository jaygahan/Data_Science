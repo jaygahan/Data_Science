{
 "cells": [
  {
   "cell_type": "code",
   "execution_count": 1,
   "metadata": {},
   "outputs": [
    {
     "name": "stdout",
     "output_type": "stream",
     "text": [
      "[ 12. 453.  34. 546.  23.]\n",
      "[  67.  786.  345. 7878.]\n"
     ]
    }
   ],
   "source": [
    "# Load CSV \n",
    "import pandas as pd\n",
    "import csv\n",
    "import numpy\n",
    "reader = pd.read_csv('numbers.csv')\n",
    "x = list(reader)\n",
    "data = numpy.array(x).astype('float')\n",
    "print(data[0:5])\n",
    "print(data[5:])"
   ]
  }
 ],
 "metadata": {
  "kernelspec": {
   "display_name": "Python 3",
   "language": "python",
   "name": "python3"
  },
  "language_info": {
   "codemirror_mode": {
    "name": "ipython",
    "version": 3
   },
   "file_extension": ".py",
   "mimetype": "text/x-python",
   "name": "python",
   "nbconvert_exporter": "python",
   "pygments_lexer": "ipython3",
   "version": "3.7.6"
  }
 },
 "nbformat": 4,
 "nbformat_minor": 4
}
